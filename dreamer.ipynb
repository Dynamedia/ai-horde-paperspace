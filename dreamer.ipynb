{
 "cells": [
  {
   "cell_type": "code",
   "execution_count": 4,
   "id": "19e8ed78-9a4c-4264-b8ec-b91157e00d55",
   "metadata": {
    "execution": {
     "iopub.execute_input": "2023-05-24T22:58:51.340240Z",
     "iopub.status.busy": "2023-05-24T22:58:51.339542Z",
     "iopub.status.idle": "2023-05-24T22:58:51.899678Z",
     "shell.execute_reply": "2023-05-24T22:58:51.898766Z",
     "shell.execute_reply.started": "2023-05-24T22:58:51.340214Z"
    }
   },
   "outputs": [
    {
     "name": "stdout",
     "output_type": "stream",
     "text": [
      "\n"
     ]
    }
   ],
   "source": [
    "### AI Horde Dreamer for Paperapace\n",
    "\n",
    "## You must use base image dynamedia/ai-horde-paperspace:latest\n",
    "\n",
    "## Do NOT add your API key to the config files. \n",
    "## It will be requested on first run and saved in .env\n",
    "\n",
    "# 1 - Set name in config/worker.yaml and config/dreamer.yaml\n",
    "# 2 - Press run or type dreamer.sh in the terminal\n",
    "\n",
    "!dreamer.sh -q"
   ]
  }
 ],
 "metadata": {
  "kernelspec": {
   "display_name": "Python 3 (ipykernel)",
   "language": "python",
   "name": "python3"
  },
  "language_info": {
   "codemirror_mode": {
    "name": "ipython",
    "version": 3
   },
   "file_extension": ".py",
   "mimetype": "text/x-python",
   "name": "python",
   "nbconvert_exporter": "python",
   "pygments_lexer": "ipython3",
   "version": "3.10.11"
  }
 },
 "nbformat": 4,
 "nbformat_minor": 5
}
