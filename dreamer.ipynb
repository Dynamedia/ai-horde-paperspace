{
 "cells": [
  {
   "cell_type": "code",
   "execution_count": null,
   "id": "19e8ed78-9a4c-4264-b8ec-b91157e00d55",
   "metadata": {},
   "outputs": [],
   "source": [
    "from lib import utils\n",
    "\n",
    "%cd /opt/AI-Horde-Worker\n",
    "\n",
    "utils.write_yaml_config()\n",
    "\n",
    "!python bridge_stable_diffusion.py -q\n"
   ]
  }
 ],
 "metadata": {
  "kernelspec": {
   "display_name": "Python 3 (ipykernel)",
   "language": "python",
   "name": "python3"
  },
  "language_info": {
   "codemirror_mode": {
    "name": "ipython",
    "version": 3
   },
   "file_extension": ".py",
   "mimetype": "text/x-python",
   "name": "python",
   "nbconvert_exporter": "python",
   "pygments_lexer": "ipython3",
   "version": "3.10.6"
  }
 },
 "nbformat": 4,
 "nbformat_minor": 5
}
