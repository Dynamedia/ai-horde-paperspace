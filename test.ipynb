{
 "cells": [
  {
   "cell_type": "code",
   "execution_count": 9,
   "id": "edfac437-6018-49d2-9fdd-ba18554c50c7",
   "metadata": {
    "execution": {
     "iopub.execute_input": "2023-04-25T20:21:38.289093Z",
     "iopub.status.busy": "2023-04-25T20:21:38.288166Z",
     "iopub.status.idle": "2023-04-25T20:21:42.125714Z",
     "shell.execute_reply": "2023-04-25T20:21:42.124815Z",
     "shell.execute_reply.started": "2023-04-25T20:21:38.289051Z"
    },
    "tags": []
   },
   "outputs": [
    {
     "name": "stdout",
     "output_type": "stream",
     "text": [
      "Requirement already satisfied: ipython==8.5.0 in /usr/local/lib/python3.10/dist-packages (8.5.0)\n",
      "Requirement already satisfied: ipykernel==6.16.0 in /usr/local/lib/python3.10/dist-packages (6.16.0)\n",
      "Requirement already satisfied: ipywidgets==8.0.2 in /usr/local/lib/python3.10/dist-packages (8.0.2)\n",
      "Requirement already satisfied: backcall in /usr/local/lib/python3.10/dist-packages (from ipython==8.5.0) (0.2.0)\n",
      "Requirement already satisfied: decorator in /usr/local/lib/python3.10/dist-packages (from ipython==8.5.0) (5.1.1)\n",
      "Requirement already satisfied: jedi>=0.16 in /usr/local/lib/python3.10/dist-packages (from ipython==8.5.0) (0.18.2)\n",
      "Requirement already satisfied: matplotlib-inline in /usr/local/lib/python3.10/dist-packages (from ipython==8.5.0) (0.1.6)\n",
      "Requirement already satisfied: pickleshare in /usr/local/lib/python3.10/dist-packages (from ipython==8.5.0) (0.7.5)\n",
      "Requirement already satisfied: prompt-toolkit<3.1.0,>3.0.1 in /usr/local/lib/python3.10/dist-packages (from ipython==8.5.0) (3.0.38)\n",
      "Requirement already satisfied: pygments>=2.4.0 in /usr/local/lib/python3.10/dist-packages (from ipython==8.5.0) (2.15.1)\n",
      "Requirement already satisfied: stack-data in /usr/local/lib/python3.10/dist-packages (from ipython==8.5.0) (0.6.2)\n",
      "Requirement already satisfied: traitlets>=5 in /usr/local/lib/python3.10/dist-packages (from ipython==8.5.0) (5.9.0)\n",
      "Requirement already satisfied: pexpect>4.3 in /usr/local/lib/python3.10/dist-packages (from ipython==8.5.0) (4.8.0)\n",
      "Requirement already satisfied: debugpy>=1.0 in /usr/local/lib/python3.10/dist-packages (from ipykernel==6.16.0) (1.6.7)\n",
      "Requirement already satisfied: jupyter-client>=6.1.12 in /usr/local/lib/python3.10/dist-packages (from ipykernel==6.16.0) (8.2.0)\n",
      "Requirement already satisfied: nest-asyncio in /usr/local/lib/python3.10/dist-packages (from ipykernel==6.16.0) (1.5.6)\n",
      "Requirement already satisfied: packaging in /usr/local/lib/python3.10/dist-packages (from ipykernel==6.16.0) (23.1)\n",
      "Requirement already satisfied: psutil in /usr/local/lib/python3.10/dist-packages (from ipykernel==6.16.0) (5.9.5)\n",
      "Requirement already satisfied: pyzmq>=17 in /usr/local/lib/python3.10/dist-packages (from ipykernel==6.16.0) (25.0.2)\n",
      "Requirement already satisfied: tornado>=6.1 in /usr/local/lib/python3.10/dist-packages (from ipykernel==6.16.0) (6.3)\n",
      "Requirement already satisfied: widgetsnbextension~=4.0 in /usr/local/lib/python3.10/dist-packages (from ipywidgets==8.0.2) (4.0.7)\n",
      "Requirement already satisfied: jupyterlab-widgets~=3.0 in /usr/local/lib/python3.10/dist-packages (from ipywidgets==8.0.2) (3.0.7)\n",
      "Requirement already satisfied: parso<0.9.0,>=0.8.0 in /usr/local/lib/python3.10/dist-packages (from jedi>=0.16->ipython==8.5.0) (0.8.3)\n",
      "Requirement already satisfied: jupyter-core!=5.0.*,>=4.12 in /usr/local/lib/python3.10/dist-packages (from jupyter-client>=6.1.12->ipykernel==6.16.0) (5.3.0)\n",
      "Requirement already satisfied: python-dateutil>=2.8.2 in /usr/local/lib/python3.10/dist-packages (from jupyter-client>=6.1.12->ipykernel==6.16.0) (2.8.2)\n",
      "Requirement already satisfied: ptyprocess>=0.5 in /usr/local/lib/python3.10/dist-packages (from pexpect>4.3->ipython==8.5.0) (0.7.0)\n",
      "Requirement already satisfied: wcwidth in /usr/local/lib/python3.10/dist-packages (from prompt-toolkit<3.1.0,>3.0.1->ipython==8.5.0) (0.2.6)\n",
      "Requirement already satisfied: executing>=1.2.0 in /usr/local/lib/python3.10/dist-packages (from stack-data->ipython==8.5.0) (1.2.0)\n",
      "Requirement already satisfied: asttokens>=2.1.0 in /usr/local/lib/python3.10/dist-packages (from stack-data->ipython==8.5.0) (2.2.1)\n",
      "Requirement already satisfied: pure-eval in /usr/local/lib/python3.10/dist-packages (from stack-data->ipython==8.5.0) (0.2.2)\n",
      "Requirement already satisfied: six in /usr/lib/python3/dist-packages (from asttokens>=2.1.0->stack-data->ipython==8.5.0) (1.14.0)\n",
      "Requirement already satisfied: platformdirs>=2.5 in /usr/local/lib/python3.10/dist-packages (from jupyter-core!=5.0.*,>=4.12->jupyter-client>=6.1.12->ipykernel==6.16.0) (3.2.0)\n",
      "\u001b[33mWARNING: Running pip as the 'root' user can result in broken permissions and conflicting behaviour with the system package manager. It is recommended to use a virtual environment instead: https://pip.pypa.io/warnings/venv\u001b[0m\u001b[33m\n",
      "\u001b[0m"
     ]
    },
    {
     "data": {
      "application/vnd.jupyter.widget-view+json": {
       "model_id": "88eef4c6e19b41428e8dc60b61663291",
       "version_major": 2,
       "version_minor": 0
      },
      "text/plain": [
       "Button(description='Medium', style=ButtonStyle())"
      ]
     },
     "metadata": {},
     "output_type": "display_data"
    }
   ],
   "source": [
    "### Set up worker - save to .env ###\n",
    "\n",
    "import utils\n",
    "import ipywidgets as widgets\n",
    "from IPython.display import display\n",
    "\n",
    "\n",
    "btn = widgets.Button(description='Medium')\n",
    "display(btn)\n",
    "\n",
    "def btn_eventhandler(obj):\n",
    "    print('Hello from the {} button!'.format(obj.description))\n",
    "\n",
    "btn.on_click(btn_eventhandler)\n",
    "\n",
    "#utils.set_worker_details()"
   ]
  },
  {
   "cell_type": "code",
   "execution_count": 2,
   "id": "c7d8f67a-373f-499e-8506-58f056ade853",
   "metadata": {
    "execution": {
     "iopub.execute_input": "2023-04-25T19:52:44.079594Z",
     "iopub.status.busy": "2023-04-25T19:52:44.079224Z",
     "iopub.status.idle": "2023-04-25T19:52:44.338175Z",
     "shell.execute_reply": "2023-04-25T19:52:44.336953Z",
     "shell.execute_reply.started": "2023-04-25T19:52:44.079568Z"
    }
   },
   "outputs": [
    {
     "ename": "NameError",
     "evalue": "name 'nsfw' is not defined",
     "output_type": "error",
     "traceback": [
      "\u001b[0;31m---------------------------------------------------------------------------\u001b[0m",
      "\u001b[0;31mNameError\u001b[0m                                 Traceback (most recent call last)",
      "Cell \u001b[0;32mIn[2], line 1\u001b[0m\n\u001b[0;32m----> 1\u001b[0m \u001b[38;5;28mprint\u001b[39m(\u001b[43mnsfw\u001b[49m)\n",
      "\u001b[0;31mNameError\u001b[0m: name 'nsfw' is not defined"
     ]
    }
   ],
   "source": [
    "print(nsfw)"
   ]
  },
  {
   "cell_type": "code",
   "execution_count": null,
   "id": "bda3e8ce-739b-4fb7-bb2d-0889d44826c8",
   "metadata": {
    "execution": {
     "iopub.execute_input": "2023-04-24T14:03:07.914912Z",
     "iopub.status.busy": "2023-04-24T14:03:07.913518Z"
    }
   },
   "outputs": [
    {
     "name": "stdout",
     "output_type": "stream",
     "text": [
      "Requirement already satisfied: nvidia_ml_py3 in /usr/local/lib/python3.10/dist-packages (7.352.0)\n",
      "Requirement already satisfied: python-dotenv in /usr/local/lib/python3.10/dist-packages (1.0.0)\n"
     ]
    }
   ],
   "source": [
    "!pip install nvidia_ml_py3 python-dotenv\n",
    "\n",
    "import os, utils\n",
    "\n",
    "%load_ext dotenv\n",
    "!touch /notebooks/.env\n",
    "%dotenv -o /notebooks/.env\n",
    "\n",
    "api_key = os.environ.get('API_KEY', False)\n",
    "worker_name = os.environ.get('WORKER_NAME', False)\n",
    "\n",
    "if not api_key or not worker_name:\n",
    "    raise Exception('Worker details not found, Please run cell 1')\n",
    "\n",
    "if not utils.is_key_valid(api_key):\n",
    "    raise Exception('API key is invalid. Please run cell 1')\n",
    "    \n",
    "\n"
   ]
  }
 ],
 "metadata": {
  "kernelspec": {
   "display_name": "Python 3 (ipykernel)",
   "language": "python",
   "name": "python3"
  },
  "language_info": {
   "codemirror_mode": {
    "name": "ipython",
    "version": 3
   },
   "file_extension": ".py",
   "mimetype": "text/x-python",
   "name": "python",
   "nbconvert_exporter": "python",
   "pygments_lexer": "ipython3",
   "version": "3.10.11"
  }
 },
 "nbformat": 4,
 "nbformat_minor": 5
}
